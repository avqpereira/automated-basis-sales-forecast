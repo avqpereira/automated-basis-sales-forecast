{
 "cells": [
  {
   "cell_type": "markdown",
   "metadata": {},
   "source": [
    "# Imports"
   ]
  },
  {
   "cell_type": "code",
   "execution_count": 1,
   "metadata": {},
   "outputs": [],
   "source": [
    "import pandas as pd"
   ]
  },
  {
   "cell_type": "markdown",
   "metadata": {},
   "source": [
    "# Defining a handy function"
   ]
  },
  {
   "cell_type": "code",
   "execution_count": 11,
   "metadata": {},
   "outputs": [],
   "source": [
    "def TransformColumns(df):\n",
    "    \"\"\"Replaces the spaces with underlines and converts to lowecase the column names of a given DataFrame `df`.\n",
    "    \n",
    "    Parameters\n",
    "    ----------\n",
    "    df : DataFrame with messy column names\n",
    "    \n",
    "    Returns\n",
    "    -------\n",
    "    None\n",
    "    \n",
    "    Raises\n",
    "    ------\n",
    "    AssertionError\n",
    "        * If `df` is not a ``pandas.DataFrame``.\n",
    "    \"\"\"\n",
    "    \n",
    "    try:\n",
    "        assert type(df) is pd.core.frame.DataFrame, \"Invalid input. Must be a DataFrame.\"\n",
    "        df.columns = [c.lower().replace(' ', '_') for c in df.columns]\n",
    "        return None\n",
    "    except AssertionError as msg:\n",
    "        print(msg)\n",
    "        return None"
   ]
  },
  {
   "cell_type": "markdown",
   "metadata": {},
   "source": [
    "# Implementing solution"
   ]
  },
  {
   "cell_type": "markdown",
   "metadata": {},
   "source": [
    "### Declaring variables"
   ]
  },
  {
   "cell_type": "code",
   "execution_count": null,
   "metadata": {},
   "outputs": [],
   "source": [
    "dictMonths = {1: 'jan', 2:'fev', 3:'mar', 4:'abr', 5:'mai', 6:'jun', 7:'jul', 8:'ago', 9:'set', 10:'out', 11:'nov', 12:'dez'}\n",
    "\n",
    "varMonth = input(\"Enter the first MONTH of the forecast that should be reviewed: \")\n",
    "varYear = input(\"Enter the YEAR of the first month that should be reviewed: \")\n",
    "\n",
    "varQuery = 'ano == '+str(varYear)+' or (ano == '+str(int(varYear) - 1)+' and mes >= '+str(varMonth)+')'"
   ]
  },
  {
   "cell_type": "markdown",
   "metadata": {},
   "source": [
    "### Importing and preparing DataFrames"
   ]
  },
  {
   "cell_type": "markdown",
   "metadata": {},
   "source": [
    "Here all DataFrames used in this solution are imported and transformed with the function TransformColumns, previously declared."
   ]
  },
  {
   "cell_type": "code",
   "execution_count": null,
   "metadata": {},
   "outputs": [],
   "source": [
    "dfGroupAnalyst = pd.read_excel('./Inputs/0_Group per analyst.xls')\n",
    "dfProd = pd.read_excel('./Inputs/1_Products.xls', sheet_name='Plan1', usecols='A:D,F,G,K')\n",
    "dfStockStores = pd.read_excel('./Inputs/1_ESTOQUE REDE.xls', sheet_name='Plan1')\n",
    "dfStockECMandDC = pd.read_excel('./Inputs/1_STOCK DC AND ECM.xls', sheet_name='Plan1')\n",
    "dfVendas = pd.read_excel('./Inputs/2_VENDAS.xlsx', usecols='A, D, L, N, O')\n",
    "dfDFUAntiga = pd.read_excel('./Inputs/2_DFU ANTIGA.xlsx')\n",
    "\n",
    "TransformColumns(dfProd)\n",
    "TransformColumns(dfStockStores)\n",
    "TransformColumns(dfECMandDC)\n",
    "TransformColumns(dfVendas)"
   ]
  },
  {
   "cell_type": "markdown",
   "metadata": {},
   "source": [
    "From our Product Dataframe (dfProd), let's filter out all products that have been discontinued and that are unavailabe with no reorder, as well as all products where 'griffe' is different than Brand A. Due to business specifics, let's also filter out Groups E and AT."
   ]
  },
  {
   "cell_type": "code",
   "execution_count": null,
   "metadata": {},
   "outputs": [],
   "source": [
    "dfProd = dfProd.loc[dfProd.linha != 'DISCONTINUED', :]\n",
    "dfProd = dfProd.loc[dfProd.linha != 'UNAVAILABLE - NO REORDER', :]\n",
    "dfProd = dfProd.loc[dfProd.griffe == 'Brand A', :]\n",
    "dfProd = dfProd.loc[dfProd.grupo_produto != 'Group E', :]\n",
    "dfProd = dfProd.loc[dfProd.grupo_produto != 'Group AT', :]\n"
   ]
  },
  {
   "cell_type": "code",
   "execution_count": null,
   "metadata": {},
   "outputs": [],
   "source": [
    "With the stock "
   ]
  },
  {
   "cell_type": "code",
   "execution_count": null,
   "metadata": {},
   "outputs": [],
   "source": [
    "dfStockECMandDC['estoque_cd'] = dfStockECMandDC['disponivel_venda'] + dfStockECMandDC['movimentação_cd']\n",
    "\n",
    "dfECM = dfStockECMandDC.loc[dfStockECMandDC.filial == 'ECOMMERCE', :]\n",
    "dfDC = dfStockECMandDC.loc[dfStockECMandDC.filial == 'DC', :]\n",
    "\n",
    "\n",
    "\n",
    "\n",
    "dfProd = dfProd.merge(dfGroupAnalyst, on='grupo_produto', how='left')\n",
    "\n",
    "\n",
    "\n",
    "\n",
    "\n",
    "\n"
   ]
  },
  {
   "cell_type": "code",
   "execution_count": null,
   "metadata": {},
   "outputs": [],
   "source": [
    "### Handl"
   ]
  },
  {
   "cell_type": "code",
   "execution_count": null,
   "metadata": {},
   "outputs": [],
   "source": [
    "\n",
    "dfVendasLTM = dfVendas.query(varQuery)\n",
    "pivotVendasLTM = dfVendasLTM.copy(deep=True)\n",
    "pivotVendasLTM['ano_e_mes'] = pivotVendasLTM.apply(lambda x: str(dictMeses[x['mes']])+'/'+str(x['ano']), axis=1)\n",
    "pivotVendasLTM = pivotVendasLTM.pivot_table(values='venda', index='produto', columns='ano_e_mes', aggfunc='sum')\n",
    "\n",
    "mesmin = dfVendasLTM['data_registro'].min().month\n",
    "anomin = dfVendasLTM['data_registro'].min().year\n",
    "\n",
    "dfDFU = dfProd.copy(deep=True)\n",
    "\n",
    "\n",
    "for m in range(0, 12):\n",
    "    if mesmin + m <= 12:\n",
    "        mes = mesmin + m\n",
    "        ano = anomin\n",
    "    else:\n",
    "        mes = mesmin + m -12\n",
    "        ano = anomin +1\n",
    "\n",
    "    mes_ano = str(dictMeses[mes])+'/'+str(ano)\n",
    "    dfDFU = dfDFU.merge(pivotVendasLTM[[mes_ano]], left_on='produto', right_index=True, how='left')\n",
    "\n",
    "\n",
    "\n",
    "dfDFU = dfDFU.merge(dfStockStores[['produto', 'estoque']], on='produto', how='left')\n",
    "dfDFU.rename(index=str, columns={\"estoque\": \"rede\"}, inplace=True)\n",
    "\n",
    "dfDFU = dfDFU.merge(dfDC[['produto', 'estoque_cd']], on='produto', how='left')\n",
    "dfDFU.rename(index=str, columns={\"estoque_cd\": \"cd\"}, inplace=True)\n",
    "\n",
    "dfDFU = dfDFU.merge(dfECM[['produto', 'estoque_cd']], on='produto', how='left')\n",
    "dfDFU.rename(index=str, columns={\"estoque_cd\": \"ecm\"}, inplace=True)\n",
    "\n",
    "dfDFU = dfDFU.fillna(0)\n",
    "dfDFU['estoque_rede+cd'] = dfDFU['rede'] + dfDFU['cd']\n",
    "\n",
    "\n",
    "\n",
    "\n",
    "\n",
    "mesesFuturos =[]\n",
    "\n",
    "for m in range(0, 14):\n",
    "    if mesmin + m <= 12:\n",
    "        mes = mesmin + m\n",
    "        ano = anomin + 1\n",
    "    else:\n",
    "        mes = mesmin + m -12\n",
    "        ano = anomin + 2\n",
    "    mes_ano = str(dictMeses[mes])+'/'+str(ano)\n",
    "    mesesFuturos.append(mes_ano)\n",
    "\n",
    "\n",
    "for m in mesesFuturos[:-1]:\n",
    "    dfDFU[m] = dfDFU.apply(lambda x: dfDFUAntiga.loc[(dfDFUAntiga['produto'] == x['produto'])][m].sum(), axis=1)\n",
    "for m in mesesFuturos[-1:]:\n",
    "    dfDFU[m] = dfDFU[dfDFU.columns.tolist()[-1]]\n",
    "\n",
    "\n",
    "\n",
    "\n",
    "dfDFU.to_excel(\"DFUNova.xlsx\", sheet_name='Base', index=False)"
   ]
  }
 ],
 "metadata": {
  "kernelspec": {
   "display_name": "Python 3",
   "language": "python",
   "name": "python3"
  },
  "language_info": {
   "codemirror_mode": {
    "name": "ipython",
    "version": 3
   },
   "file_extension": ".py",
   "mimetype": "text/x-python",
   "name": "python",
   "nbconvert_exporter": "python",
   "pygments_lexer": "ipython3",
   "version": "3.7.4"
  }
 },
 "nbformat": 4,
 "nbformat_minor": 2
}
