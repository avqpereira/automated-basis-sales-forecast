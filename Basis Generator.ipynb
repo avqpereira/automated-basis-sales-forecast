{
 "cells": [
  {
   "cell_type": "markdown",
   "metadata": {},
   "source": [
    "# Imports"
   ]
  },
  {
   "cell_type": "code",
   "execution_count": 1,
   "metadata": {},
   "outputs": [],
   "source": [
    "import pandas as pd"
   ]
  },
  {
   "cell_type": "markdown",
   "metadata": {},
   "source": [
    "# Defining a handy function"
   ]
  },
  {
   "cell_type": "code",
   "execution_count": 2,
   "metadata": {},
   "outputs": [],
   "source": [
    "def TransformColumns(df):\n",
    "    \"\"\"Replaces the spaces with underlines and converts to lowecase the column names of a given DataFrame `df`.\n",
    "    \n",
    "    Parameters\n",
    "    ----------\n",
    "    df : DataFrame with messy column names\n",
    "    \n",
    "    Returns\n",
    "    -------\n",
    "    None\n",
    "    \n",
    "    Raises\n",
    "    ------\n",
    "    AssertionError\n",
    "        * If `df` is not a ``pandas.DataFrame``.\n",
    "    \"\"\"\n",
    "    \n",
    "    try:\n",
    "        assert type(df) is pd.core.frame.DataFrame, \"Invalid input. Must be a DataFrame.\"\n",
    "        df.columns = [c.lower().replace(' ', '_') for c in df.columns]\n",
    "        return None\n",
    "    except AssertionError as msg:\n",
    "        print(msg)\n",
    "        return None"
   ]
  },
  {
   "cell_type": "markdown",
   "metadata": {},
   "source": [
    "# Implementing solution"
   ]
  },
  {
   "cell_type": "markdown",
   "metadata": {},
   "source": [
    "### Declaring variables"
   ]
  },
  {
   "cell_type": "code",
   "execution_count": 3,
   "metadata": {},
   "outputs": [
    {
     "name": "stdout",
     "output_type": "stream",
     "text": [
      "Enter the first MONTH of the forecast that should be reviewed: 8\n",
      "Enter the YEAR of the first month that should be reviewed: 2019\n"
     ]
    }
   ],
   "source": [
    "dictMonths = {1: 'jan', 2:'fev', 3:'mar', 4:'abr', 5:'mai', 6:'jun', 7:'jul', 8:'ago', 9:'set', 10:'out', 11:'nov', 12:'dez'}\n",
    "\n",
    "varMonth = input(\"Enter the first MONTH of the forecast that should be reviewed: \") #8\n",
    "varYear = input(\"Enter the YEAR of the first month that should be reviewed: \") #2019\n",
    "\n",
    "varQuery = 'ano == '+str(varYear)+' or (ano == '+str(int(varYear) - 1)+' and mes >= '+str(varMonth)+')'"
   ]
  },
  {
   "cell_type": "markdown",
   "metadata": {},
   "source": [
    "### Importing and preparing DataFrames"
   ]
  },
  {
   "cell_type": "markdown",
   "metadata": {},
   "source": [
    "Here all DataFrames used in this solution are imported and transformed with the previously declared function TransformColumns. They are namely: <br>\n",
    "- dfGroupAnalyst: A list of analysts to which each product group is assigned;\n",
    "- dfProd: A product log, with basic infos about all the registered products;\n",
    "- dfStockECMandDC: An inventory of all product quantities destined to e-commerce and physical stores;\n",
    "- dfStockStores: An inventory of all product quantities on the physical stores;\n",
    "- dfSales: The sales from last twelve months for each product;\n",
    "- dfLastForecast: Previous sales forecast."
   ]
  },
  {
   "cell_type": "code",
   "execution_count": 4,
   "metadata": {},
   "outputs": [],
   "source": [
    "dfGroupAnalyst = pd.read_excel('./Inputs/0_Group per analyst.xls')\n",
    "dfProd = pd.read_excel('./Inputs/1_Products.xls', sheet_name='Plan1', usecols='A:D,F,G,K')\n",
    "dfStockEcmAndDc = pd.read_excel('./Inputs/1_STOCK ECM AND DC.xls', sheet_name='Plan1')\n",
    "dfStockStores = pd.read_excel('./Inputs/1_STOCK STORES.xls', sheet_name='Plan1')\n",
    "dfSales = pd.read_excel('./Inputs/2_SALES.xlsx', usecols='A, D, H, J:K')\n",
    "dfLastForecast = pd.read_excel('./Inputs/2_LAST FORECAST.xlsx')\n",
    "\n",
    "TransformColumns(dfProd)\n",
    "TransformColumns(dfStockEcmAndDc)\n",
    "TransformColumns(dfStockStores)\n",
    "TransformColumns(dfSales)"
   ]
  },
  {
   "cell_type": "markdown",
   "metadata": {},
   "source": [
    "From our Product Dataframe (dfProd), let's filter out all products that have been discontinued and that are unavailabe with no reorder, as well as all products where 'griffe' is different than Brand A. Due to business specifics, let's also filter out Groups E and AT."
   ]
  },
  {
   "cell_type": "code",
   "execution_count": 5,
   "metadata": {},
   "outputs": [],
   "source": [
    "dfProd = dfProd.loc[dfProd.linha != 'DISCONTINUED', :]\n",
    "dfProd = dfProd.loc[dfProd.linha != 'UNAVAILABLE - NO REORDER', :]\n",
    "dfProd = dfProd.loc[dfProd.griffe == 'Brand A', :]\n",
    "dfProd = dfProd.loc[dfProd.grupo_produto != 'Group E', :]\n",
    "dfProd = dfProd.loc[dfProd.grupo_produto != 'Group AT', :]"
   ]
  },
  {
   "cell_type": "markdown",
   "metadata": {},
   "source": [
    "Now let's divide the stock DataFrame into two separate DataFrames: one for the e-commerce ad another for the physical stores."
   ]
  },
  {
   "cell_type": "code",
   "execution_count": 6,
   "metadata": {},
   "outputs": [],
   "source": [
    "dfStockEcmAndDc['estoque_cd'] = dfStockEcmAndDc['disponivel_venda'] + dfStockEcmAndDc['movimentação_cd']\n",
    "\n",
    "dfECM = dfStockEcmAndDc.loc[dfStockEcmAndDc.filial == 'ECOMMERCE', :]\n",
    "dfDC = dfStockEcmAndDc.loc[dfStockEcmAndDc.filial == 'DC', :]"
   ]
  },
  {
   "cell_type": "markdown",
   "metadata": {},
   "source": [
    "### Handling the Dataframes"
   ]
  },
  {
   "cell_type": "markdown",
   "metadata": {},
   "source": [
    "In order to slice the relevant period for the analysis, we will apply varQuery to dfSales. Then, the minimum month and year from the register date is going to be stored to variables."
   ]
  },
  {
   "cell_type": "code",
   "execution_count": 7,
   "metadata": {},
   "outputs": [],
   "source": [
    "dfSales = dfSales.query(varQuery)\n",
    "\n",
    "mesmin = dfSales['data_registro'].min().month\n",
    "anomin = dfSales['data_registro'].min().year"
   ]
  },
  {
   "cell_type": "markdown",
   "metadata": {},
   "source": [
    "With only the correct period on the DataFrame, let's transform the columns 'mes' and 'ano' into one string representation of the month in question: 'mm' and 'yyyy' into 'mm / yyyy'. Pivot the sales."
   ]
  },
  {
   "cell_type": "code",
   "execution_count": 8,
   "metadata": {},
   "outputs": [],
   "source": [
    "dfSales['ano_e_mes'] = dfSales.apply(lambda x: str(dictMonths[x['mes']])+'/'+str(x['ano']), axis=1)\n",
    "dfSales = dfSales.pivot_table(values='venda', index='produto', columns='ano_e_mes', aggfunc='sum')"
   ]
  },
  {
   "cell_type": "markdown",
   "metadata": {},
   "source": [
    "In order to walk towards our final solution, we will start merging the DataFrames. Let's first merge the product DataFrame with the list of groups per analyst and then iterate through the last twelve months of sales, merging each column in the correct order."
   ]
  },
  {
   "cell_type": "code",
   "execution_count": 9,
   "metadata": {},
   "outputs": [],
   "source": [
    "dfNewForecast = dfProd.merge(dfGroupAnalyst, on='grupo_produto', how='left')\n",
    "\n",
    "for m in range(0, 12):\n",
    "    if mesmin + m <= 12:\n",
    "        mes = mesmin + m\n",
    "        ano = anomin\n",
    "    else:\n",
    "        mes = mesmin + m -12\n",
    "        ano = anomin +1\n",
    "\n",
    "    mes_ano = str(dictMonths[mes])+'/'+str(ano)\n",
    "    dfNewForecast = dfNewForecast.merge(dfSales[[mes_ano]], left_on='produto', right_index=True, how='left')"
   ]
  },
  {
   "cell_type": "markdown",
   "metadata": {},
   "source": [
    "Let's now add the stock on stores, stock DC and Stock ECM. Finally create the column Stock stores+DC, needed for the later work to be developed."
   ]
  },
  {
   "cell_type": "code",
   "execution_count": 10,
   "metadata": {},
   "outputs": [],
   "source": [
    "dfNewForecast = dfNewForecast.merge(dfStockStores[['produto', 'estoque']], on='produto', how='left')\n",
    "dfNewForecast.rename(index=str, columns={\"estoque\": \"rede\"}, inplace=True)\n",
    "\n",
    "dfNewForecast = dfNewForecast.merge(dfDC[['produto', 'estoque_cd']], on='produto', how='left')\n",
    "dfNewForecast.rename(index=str, columns={\"estoque_cd\": \"cd\"}, inplace=True)\n",
    "\n",
    "dfNewForecast = dfNewForecast.merge(dfECM[['produto', 'estoque_cd']], on='produto', how='left')\n",
    "dfNewForecast.rename(index=str, columns={\"estoque_cd\": \"ecm\"}, inplace=True)\n",
    "\n",
    "dfNewForecast = dfNewForecast.fillna(0)\n",
    "dfNewForecast['estoque_rede+cd'] = dfNewForecast['rede'] + dfNewForecast['cd']"
   ]
  },
  {
   "cell_type": "markdown",
   "metadata": {},
   "source": [
    "Let's then create a list of the 12 future months and populate the columns from the new Forecast with the sales previously predicted by the analysts."
   ]
  },
  {
   "cell_type": "code",
   "execution_count": 11,
   "metadata": {},
   "outputs": [],
   "source": [
    "mesesFuturos =[]\n",
    "\n",
    "for m in range(0, 14):\n",
    "    if mesmin + m <= 12:\n",
    "        mes = mesmin + m\n",
    "        ano = anomin + 1\n",
    "    else:\n",
    "        mes = mesmin + m -12\n",
    "        ano = anomin + 2\n",
    "    mes_ano = str(dictMonths[mes])+'/'+str(ano)\n",
    "    mesesFuturos.append(mes_ano)\n",
    "\n",
    "\n",
    "for m in mesesFuturos[:-1]:\n",
    "    dfNewForecast[m] = dfNewForecast.apply(lambda x: dfLastForecast.loc[(dfLastForecast['produto'] == x['produto'])][m].sum(), \n",
    "                                           axis=1)\n",
    "for m in mesesFuturos[-1:]:\n",
    "    dfNewForecast[m] = dfNewForecast[dfNewForecast.columns.tolist()[-1]]"
   ]
  },
  {
   "cell_type": "markdown",
   "metadata": {},
   "source": [
    "# Exporting the file"
   ]
  },
  {
   "cell_type": "markdown",
   "metadata": {},
   "source": [
    "Save the new file to excel."
   ]
  },
  {
   "cell_type": "code",
   "execution_count": 12,
   "metadata": {},
   "outputs": [],
   "source": [
    "dfNewForecast.to_excel(\"NewForecast.xls\", sheet_name='Base', index=False)"
   ]
  }
 ],
 "metadata": {
  "kernelspec": {
   "display_name": "Python 3",
   "language": "python",
   "name": "python3"
  },
  "language_info": {
   "codemirror_mode": {
    "name": "ipython",
    "version": 3
   },
   "file_extension": ".py",
   "mimetype": "text/x-python",
   "name": "python",
   "nbconvert_exporter": "python",
   "pygments_lexer": "ipython3",
   "version": "3.7.3"
  }
 },
 "nbformat": 4,
 "nbformat_minor": 2
}
